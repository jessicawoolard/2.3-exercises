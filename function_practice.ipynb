{
 "cells": [
  {
   "cell_type": "markdown",
   "metadata": {},
   "source": [
    "### Character Input\n",
    "\n",
    "Create a program that asks the user to enter their name and their age. Print out a message addressed to them that tells them the year that they will turn 100 years old."
   ]
  },
  {
   "cell_type": "code",
   "execution_count": 4,
   "metadata": {},
   "outputs": [
    {
     "name": "stdout",
     "output_type": "stream",
     "text": [
      "What is your name?Jessica\n",
      "Whats is your age?32\n",
      "Jessica you will turn 100 in 2087\n"
     ]
    }
   ],
   "source": [
    "def character_input():\n",
    "\n",
    "    name = input('What is your name?')\n",
    "    age = input('Whats is your age?')\n",
    "    \n",
    "    year = 2019 + (100 - int(age))\n",
    "    \n",
    "    print(str(name) + ' you will turn 100 in ' + str(year))\n",
    "    \n",
    "character_input()\n"
   ]
  },
  {
   "cell_type": "markdown",
   "metadata": {},
   "source": [
    "### Odd Or Even\n",
    "\n",
    "Ask the user for a number. Depending on whether the number is even or odd, print out an appropriate message to the user. Hint: how does an even / odd number react differently when divided by 2?"
   ]
  },
  {
   "cell_type": "code",
   "execution_count": 7,
   "metadata": {},
   "outputs": [
    {
     "name": "stdout",
     "output_type": "stream",
     "text": [
      "Give me a number.3\n",
      "That's an odd number\n"
     ]
    }
   ],
   "source": [
    "def odd_even():\n",
    "    number = input('Give me a number.')\n",
    "    number = int(number)\n",
    "    \n",
    "    if number % 2 == 0:\n",
    "        print('That\\'s an even number')\n",
    "    else:\n",
    "        print('That\\'s an odd number')\n",
    "    \n",
    "odd_even()\n",
    "    "
   ]
  },
  {
   "cell_type": "markdown",
   "metadata": {},
   "source": [
    "### List Ends\n",
    "\n",
    "Write a program that takes a list of numbers (for example, a = [5, 10, 15, 20, 25]) and makes a new list of only the first and last elements of the given list. For practice, write this code inside a function."
   ]
  },
  {
   "cell_type": "code",
   "execution_count": 11,
   "metadata": {},
   "outputs": [
    {
     "data": {
      "text/plain": [
       "[5, 25]"
      ]
     },
     "execution_count": 11,
     "metadata": {},
     "output_type": "execute_result"
    }
   ],
   "source": [
    "def  list_ends(num_list):\n",
    "    my_list = []\n",
    "    \n",
    "    first_element = num_list[0]\n",
    "    my_list.append(first_element)\n",
    "    \n",
    "    last_element = num_list[-1]\n",
    "    my_list.append(last_element)\n",
    "    \n",
    "    return my_list\n",
    "\n",
    "list_ends([5, 10, 15, 20, 25])\n",
    "    "
   ]
  },
  {
   "cell_type": "code",
   "execution_count": null,
   "metadata": {},
   "outputs": [],
   "source": [
    "Element Search\n",
    "\n",
    "Write a function that takes an ordered list of numbers (a list where the elements \n",
    "are in order from smallest to largest) and another number. The function decides \n",
    "whether or not the given number is inside the list and returns (then prints) an \n",
    "appropriate boolean."
   ]
  },
  {
   "cell_type": "code",
   "execution_count": 9,
   "metadata": {},
   "outputs": [
    {
     "name": "stdout",
     "output_type": "stream",
     "text": [
      "YES\n"
     ]
    },
    {
     "data": {
      "text/plain": [
       "True"
      ]
     },
     "execution_count": 9,
     "metadata": {},
     "output_type": "execute_result"
    }
   ],
   "source": [
    "def is_number_present(num_list, number_to_find):\n",
    "   \n",
    "    \n",
    "    if number_to_find in num_list:\n",
    "        print(\"YES\")\n",
    "        return True\n",
    "    else:\n",
    "        print(\"NOPE\")\n",
    "        return False\n",
    "    \n",
    "    \n",
    "\n",
    "is_number_present([2, 5, 6, 9], 6)"
   ]
  },
  {
   "cell_type": "markdown",
   "metadata": {},
   "source": [
    "### List Less Than 5\n",
    "\n",
    "Write a program that takes a list of numbers and prints out all the elements of the list that are less than 5."
   ]
  },
  {
   "cell_type": "raw",
   "metadata": {},
   "source": []
  },
  {
   "cell_type": "code",
   "execution_count": 12,
   "metadata": {},
   "outputs": [
    {
     "name": "stdout",
     "output_type": "stream",
     "text": [
      "1\n",
      "2\n",
      "3\n"
     ]
    }
   ],
   "source": [
    "def less_than_5(num_list):\n",
    "    \n",
    "    \n",
    "    for number in num_list:\n",
    "        if number < 5:\n",
    "            print(number)\n",
    "less_than_5([1, 2, 3, 10])   "
   ]
  },
  {
   "cell_type": "markdown",
   "metadata": {},
   "source": [
    "### Divisors\n",
    "\n",
    "Create a program that asks the user for a number and then prints out a list of all the divisors of that number."
   ]
  },
  {
   "cell_type": "code",
   "execution_count": null,
   "metadata": {},
   "outputs": [],
   "source": [
    "def print_divisors():\n",
    "    input_number = input('Give me a number!')\n",
    "    input_number = int(input_number)\n",
    "    \n",
    "    num_list = []\n",
    "    \n",
    "    \n",
    "    for number in list(range(1, input_number)):\n",
    "        if input_number % number == 0:\n",
    "            num_list.append(number)\n",
    "    print(num_list)\n",
    "    \n",
    "    \n",
    "print_divisors()"
   ]
  },
  {
   "cell_type": "markdown",
   "metadata": {},
   "source": [
    "### List Remove Duplicates\n",
    "\n",
    "Write a program (function!) that takes a list and returns a new list that contains all the elements of the first list minus all the duplicates."
   ]
  },
  {
   "cell_type": "code",
   "execution_count": 23,
   "metadata": {},
   "outputs": [
    {
     "data": {
      "text/plain": [
       "['cat', 'dog']"
      ]
     },
     "execution_count": 23,
     "metadata": {},
     "output_type": "execute_result"
    }
   ],
   "source": [
    "def no_dups(element_list):\n",
    "    element_new_list = []\n",
    "    \n",
    "    for element in element_list:\n",
    "        if element not in element_new_list:\n",
    "            element_new_list.append(element)\n",
    "    return element_new_list\n",
    "\n",
    "no_dups(['cat', 'dog', 'cat'])\n",
    "    "
   ]
  },
  {
   "cell_type": "markdown",
   "metadata": {},
   "source": [
    "### Fibonnaci\n",
    "\n",
    "Write a program that asks the user how many Fibonnaci numbers to generate and then generates them. (The Fibonnaci seqence is a sequence of numbers where the next number in the sequence is the sum of the previous two numbers in the sequence. The sequence looks like this: 1, 1, 2, 3, 5, 8, 13, …)"
   ]
  },
  {
   "cell_type": "code",
   "execution_count": null,
   "metadata": {},
   "outputs": [],
   "source": [
    "def "
   ]
  }
 ],
 "metadata": {
  "kernelspec": {
   "display_name": "Python 3",
   "language": "python",
   "name": "python3"
  },
  "language_info": {
   "codemirror_mode": {
    "name": "ipython",
    "version": 3
   },
   "file_extension": ".py",
   "mimetype": "text/x-python",
   "name": "python",
   "nbconvert_exporter": "python",
   "pygments_lexer": "ipython3",
   "version": "3.7.2"
  }
 },
 "nbformat": 4,
 "nbformat_minor": 2
}
